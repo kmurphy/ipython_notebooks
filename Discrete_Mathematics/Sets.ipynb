{
 "cells": [
  {
   "cell_type": "markdown",
   "metadata": {},
   "source": [
    "#Sets"
   ]
  },
  {
   "cell_type": "markdown",
   "metadata": {},
   "source": [
    "In [lectures](lectures) we have covered the concept of a set, and set operations from a purely mathematical perspective. In this notebook we will repeat this activity but from the perspective of a computer programming language (python). \n",
    "\n",
    "While sets in python are very similar to sets in mathematics, there are some signigficant differeneces.\n",
    "Both langiuages --- mathematics and python --- use the same definition for a set:\n",
    "\n",
    "> A **set** is a collection of distinct, well-defined objects callled **elemennts**.\n",
    "\n",
    "But there are differences that affect our notation and what we can actually define as sets. For example:\n",
    "\n",
    " 1. In mathematics we don't have to worry about the size of sets. We can have set that are infinite in size, for example, the set of primes $\\{2,3,5,7,11,13,17,\\ldots\\}$, or just sets that are finite but are too large to be stored in a computer, for example the set of all possible URLs. (This set would have about $66^{2048}$ elements). \n",
    " \n",
    " 2. In mathematics we don't have to worry about finite precision. \n",
    " \n",
    " 3. Most programming languages only use a subset of characters that are avilable on a keyboard ..."
   ]
  },
  {
   "cell_type": "markdown",
   "metadata": {},
   "source": [
    "##1. The Empty Set\n",
    "\n",
    "In mathematics we use either $\\emptyset$ or $\\{\\}$ to represent the empty set. We don't use either of these symbols in python to represnet the empty set, because the $\\emptyset$ is difficult to type and the curly braces, $\\{\\}$ are used to represent a dictionary (more on this later). To represent an empty set in python we write\n",
    "\n",
    "    set()"
   ]
  },
  {
   "cell_type": "markdown",
   "metadata": {},
   "source": [
    "**Exercise 1**\n",
    "\n",
    "Write python code to define $a$ to be a empty set, and then print out $a$. "
   ]
  },
  {
   "cell_type": "code",
   "execution_count": 1,
   "metadata": {
    "collapsed": false
   },
   "outputs": [
    {
     "name": "stdout",
     "output_type": "stream",
     "text": [
      "set()\n"
     ]
    }
   ],
   "source": [
    "a = set()\n",
    "print(a)"
   ]
  },
  {
   "cell_type": "markdown",
   "metadata": {},
   "source": [
    "##2. Defining Sets by Listing Elements\n",
    "\n",
    "If the number of elements is small then we can define the set by simply listing the elements, separated by a comma. So the python notation is same we used in mathematics. For example the set of primes less than 20 is \n",
    "\n",
    "In mathematics:\n",
    "\n",
    "\\\\[ a= \\\\{2,3,5,7,11,13,17,19\\\\}\\\\]\n",
    "\n",
    "In python:\n",
    "\n",
    "    a = {2,3,5,7,11,13,17,19}"
   ]
  },
  {
   "cell_type": "markdown",
   "metadata": {},
   "source": [
    "**Exercise 1**\n",
    "\n",
    "Define the set containing the days of the week (remember strings are stored either a single or double quotes.) Also, notice that python does not preserve the order. "
   ]
  },
  {
   "cell_type": "code",
   "execution_count": 2,
   "metadata": {
    "collapsed": false
   },
   "outputs": [
    {
     "data": {
      "text/plain": [
       "{'Fri', 'Mon', 'Sat', 'Sun', 'Thu', 'Tue', 'Wed'}"
      ]
     },
     "execution_count": 2,
     "metadata": {},
     "output_type": "execute_result"
    }
   ],
   "source": [
    "{\"Sun\", \"Mon\", \"Tue\", \"Wed\", \"Thu\", \"Fri\", \"Sat\"}"
   ]
  },
  {
   "cell_type": "markdown",
   "metadata": {},
   "source": [
    "##3. Defining Sets using Set Builder Notation\n",
    "\n",
    "The set builder notation allows us to create new sets by using patterns. "
   ]
  },
  {
   "cell_type": "markdown",
   "metadata": {},
   "source": [
    "**Exercise 1**\n",
    "\n",
    "Implement a list comprehension for the set\n",
    "$\\{x |x ∈ \\{1, 2, 3, 4, 5\\}, x < 0\\}$"
   ]
  },
  {
   "cell_type": "code",
   "execution_count": 3,
   "metadata": {
    "collapsed": false
   },
   "outputs": [
    {
     "data": {
      "text/plain": [
       "set()"
      ]
     },
     "execution_count": 3,
     "metadata": {},
     "output_type": "execute_result"
    }
   ],
   "source": [
    "{x for x in range(1,6) if x<0}"
   ]
  },
  {
   "cell_type": "markdown",
   "metadata": {},
   "source": [
    "**Exercise 2**\n",
    "\n",
    "Implement a list comprehension for the set\n",
    "$\\{x + y \\big| x \\in\\{1, 2, 3\\}, y \\in \\{4, 5\\}\\}$"
   ]
  },
  {
   "cell_type": "code",
   "execution_count": 4,
   "metadata": {
    "collapsed": false
   },
   "outputs": [
    {
     "data": {
      "text/plain": [
       "{5, 6, 7, 8}"
      ]
     },
     "execution_count": 4,
     "metadata": {},
     "output_type": "execute_result"
    }
   ],
   "source": [
    "{x+y for x in {1,2,3} for y in (4,5)}"
   ]
  },
  {
   "cell_type": "markdown",
   "metadata": {},
   "source": [
    "**Exercise 3**\n",
    "\n",
    "Implement a list comprehension for the set\n",
    "$\\{x |x ∈ \\{0, 1, 2, 3, 4, 5, 6, 7, 8, 9, 10\\}, x \\text{ is even}\\}$"
   ]
  },
  {
   "cell_type": "code",
   "execution_count": 5,
   "metadata": {
    "collapsed": false
   },
   "outputs": [
    {
     "data": {
      "text/plain": [
       "{0, 2, 4, 6, 8, 10}"
      ]
     },
     "execution_count": 5,
     "metadata": {},
     "output_type": "execute_result"
    }
   ],
   "source": [
    "{x for x in range(11) if x%2==0}"
   ]
  },
  {
   "cell_type": "markdown",
   "metadata": {
    "collapsed": true
   },
   "source": [
    "##3. Set Operations\n",
    "\n",
    "\n",
    "**Intersection:** If $A$ and $B$ are sets then the intersection, $A\\cap B$, in python is \n",
    "\n",
    "    A.intersection(B)\n",
    "   \n",
    "and is a new set consisting all elements that are in set $A$ and in set $B$.\n",
    "\n",
    "**Union:** If $A$ and $B$ are sets then the union, $A\\cup B$, in python is \n",
    "\n",
    "    A.union(B)\n",
    "\n",
    "and is a new set consisting all elements that are in set $A$ or in set $B$ or in both.\n",
    "\n",
    "**Difference:** If $A$ and $B$ are sets then the set difference, $A\\setminus B$, in python is\n",
    "\n",
    "    A.difference(B)\n",
    "\n",
    "and is a new set consisting all elements that are in set $A$ but not in set $B$.\n",
    "\n",
    "\n",
    "**Symmetric_difference:** If $A$ and $B$ are sets then the symmetric_difference, $A\\ominus B$, in python is\n",
    "\n",
    "    A.symmetric_difference(B)\n",
    "\n",
    "and is a new set consisting all elements that are in set $A$ or in set $B$ but not in both.\n",
    "\n",
    "\n",
    "Python has more set operations, to see what functions are defined use \n",
    "\n",
    "    dir(set())\n",
    "\n",
    "and to get help on a function, say symmetric_difference, type\n",
    "\n",
    "    help(set().symmetric_difference)\n"
   ]
  },
  {
   "cell_type": "markdown",
   "metadata": {
    "collapsed": false
   },
   "source": [
    "**Exercise 1**\n",
    "\n",
    "ToDo"
   ]
  },
  {
   "cell_type": "markdown",
   "metadata": {},
   "source": [
    "##4. Applications\n",
    "\n",
    "ToDo"
   ]
  }
 ],
 "metadata": {
  "kernelspec": {
   "display_name": "Python 3",
   "language": "python",
   "name": "python3"
  },
  "language_info": {
   "codemirror_mode": {
    "name": "ipython",
    "version": 3
   },
   "file_extension": ".py",
   "mimetype": "text/x-python",
   "name": "python",
   "nbconvert_exporter": "python",
   "pygments_lexer": "ipython3",
   "version": "3.4.3"
  }
 },
 "nbformat": 4,
 "nbformat_minor": 0
}
